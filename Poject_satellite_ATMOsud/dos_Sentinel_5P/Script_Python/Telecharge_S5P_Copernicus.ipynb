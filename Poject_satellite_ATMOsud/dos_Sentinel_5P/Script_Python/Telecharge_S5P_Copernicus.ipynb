{
 "cells": [
  {
   "cell_type": "code",
   "execution_count": 1,
   "metadata": {},
   "outputs": [],
   "source": [
    "UTILISATEUR = {\n",
    "    \"Moussa\" :  {\"USER\" : \"moussa.dieng@atmosud.org\", \"password\" : \"XM:~G'%SL>26pr2\"}\n",
    "   \n",
    "}"
   ]
  },
  {
   "cell_type": "code",
   "execution_count": 2,
   "metadata": {},
   "outputs": [
    {
     "data": {
      "text/plain": [
       "\"XM:~G'%SL>26pr2\""
      ]
     },
     "execution_count": 2,
     "metadata": {},
     "output_type": "execute_result"
    }
   ],
   "source": [
    "USERNAME = UTILISATEUR[\"Moussa\"][\"USER\"]\n",
    "password = UTILISATEUR[\"Moussa\"][\"password\"]\n",
    "#USERNAME#, \n",
    "password"
   ]
  },
  {
   "cell_type": "code",
   "execution_count": 7,
   "metadata": {},
   "outputs": [
    {
     "name": "stdout",
     "output_type": "stream",
     "text": [
      "Recherche des produits...\n"
     ]
    },
    {
     "name": "stderr",
     "output_type": "stream",
     "text": [
      "N:/MOD_SERVER/SATELLITES/tropomi_s5_annuel/alternance_moussa/output/SO2\\2024_08\\S5P_OFFL_L2__SO2____20240802T124844_20240802T143014_35258_03_020601_20240809T053147.nc: 100%|██████████| 0.99G/0.99G [10:54<00:00, 1.63MiB/s]   \n"
     ]
    },
    {
     "name": "stdout",
     "output_type": "stream",
     "text": [
      "Téléchargement terminé : N:/MOD_SERVER/SATELLITES/tropomi_s5_annuel/alternance_moussa/output/SO2\\2024_08\\S5P_OFFL_L2__SO2____20240802T124844_20240802T143014_35258_03_020601_20240809T053147.nc\n"
     ]
    },
    {
     "name": "stderr",
     "output_type": "stream",
     "text": [
      "N:/MOD_SERVER/SATELLITES/tropomi_s5_annuel/alternance_moussa/output/SO2\\2024_08\\S5P_OFFL_L2__SO2____20240802T110715_20240802T124844_35257_03_020601_20240809T035226.nc: 100%|██████████| 0.99G/0.99G [11:15<00:00, 1.58MiB/s]   \n"
     ]
    },
    {
     "name": "stdout",
     "output_type": "stream",
     "text": [
      "Téléchargement terminé : N:/MOD_SERVER/SATELLITES/tropomi_s5_annuel/alternance_moussa/output/SO2\\2024_08\\S5P_OFFL_L2__SO2____20240802T110715_20240802T124844_35257_03_020601_20240809T035226.nc\n"
     ]
    },
    {
     "name": "stderr",
     "output_type": "stream",
     "text": [
      "N:/MOD_SERVER/SATELLITES/tropomi_s5_annuel/alternance_moussa/output/SO2\\2024_08\\S5P_OFFL_L2__SO2____20240801T112621_20240801T130751_35243_03_020601_20240808T125458.nc: 100%|██████████| 0.99G/0.99G [11:34<00:00, 1.54MiB/s]   "
     ]
    },
    {
     "name": "stdout",
     "output_type": "stream",
     "text": [
      "Téléchargement terminé : N:/MOD_SERVER/SATELLITES/tropomi_s5_annuel/alternance_moussa/output/SO2\\2024_08\\S5P_OFFL_L2__SO2____20240801T112621_20240801T130751_35243_03_020601_20240808T125458.nc\n"
     ]
    },
    {
     "name": "stderr",
     "output_type": "stream",
     "text": [
      "\n"
     ]
    }
   ],
   "source": [
    "import json\n",
    "import requests\n",
    "import os\n",
    "from getpass import getpass\n",
    "from tqdm import tqdm\n",
    "from datetime import datetime\n",
    "import re\n",
    "\n",
    "# Définir les paramètres personnalisés\n",
    "POLLUANT = \"SO2\" #\"AER_AI\"  #  \"O3\"   #\"NO2\" , #'CO', \"SO2\", \"HCH0\", \"CH4\" ....\n",
    "ZONE = \"POLYGON((4.15 43.01, 7.73 43.01, 7.73 44.76, 4.15 44.76, 4.15 43.01))\"\n",
    "START_DATE = \"2024-08-01T00:00:00.000Z\"\n",
    "END_DATE = \"2024-08-02T23:59:59.999Z\"\n",
    "\n",
    "# Définir les informations d'utilisateur\n",
    "\n",
    "USERNAME = UTILISATEUR[\"Moussa\"][\"USER\"]\n",
    "password = UTILISATEUR[\"Moussa\"][\"password\"]\n",
    "\n",
    "#USERNAME = \"moussa.dieng@atmosud.org\"\n",
    "#password = \"XM:~G'%SL>26pr2\"      # mot de passs compte COPERNICUS password = \"XM:~G'%SL>26pr2\"\n",
    "def get_keycloak(username: str, password: str) -> str:\n",
    "    data = {\n",
    "        \"client_id\": \"cdse-public\",\n",
    "        \"username\": username,\n",
    "        \"password\": password,\n",
    "        \"grant_type\": \"password\"\n",
    "    }\n",
    "    r = requests.post(\"https://identity.dataspace.copernicus.eu/auth/realms/CDSE/protocol/openid-connect/token\", data=data)\n",
    "    r.raise_for_status()\n",
    "    return r.json()[\"access_token\"], r.json()[\"refresh_token\"]\n",
    "\n",
    "def refresh_keycloak(refresh_token: str) -> str:\n",
    "    data = {\n",
    "        \"client_id\": \"cdse-public\",\n",
    "        \"grant_type\": \"refresh_token\",\n",
    "        \"refresh_token\": refresh_token\n",
    "    }\n",
    "    r = requests.post(\"https://identity.dataspace.copernicus.eu/auth/realms/CDSE/protocol/openid-connect/token\", data=data)\n",
    "    r.raise_for_status()\n",
    "    return r.json()[\"access_token\"], r.json()[\"refresh_token\"]\n",
    "\n",
    "#passwd = str(getpass())\n",
    "passwd = password \n",
    "keycloak_token, refresh_token = get_keycloak(USERNAME, passwd)\n",
    "\n",
    "def download_netcdf(url: str, fname: str, chunk_size=1024):\n",
    "    session = requests.Session()\n",
    "    session.headers.update({'Authorization': 'Bearer {}'.format(keycloak_token)})\n",
    "\n",
    "    resp = requests.get(url, allow_redirects=False)\n",
    "    while resp.status_code in (301, 302, 303, 307):\n",
    "        url = resp.headers['Location']\n",
    "        resp = session.get(url, verify=True, stream=True, allow_redirects=False)\n",
    "    \n",
    "    total = int(resp.headers.get('content-length', 0))\n",
    "    with open(fname, 'wb') as file, tqdm(desc=fname, total=total, unit='iB', unit_scale=True, unit_divisor=1024) as bar:\n",
    "        for data in resp.iter_content(chunk_size=chunk_size):\n",
    "            size = file.write(data)\n",
    "            bar.update(size)\n",
    "\n",
    "print(\"Recherche des produits...\")\n",
    "\n",
    "if POLLUANT == \"AER_AI\":\n",
    "   products_url = f\"https://catalogue.dataspace.copernicus.eu/odata/v1/Products?&$filter=((Collection/Name%20eq%20%27SENTINEL-5P%27%20and%20(Attributes/OData.CSC.StringAttribute/any(att:att/Name%20eq%20%27instrumentShortName%27%20and%20att/OData.CSC.StringAttribute/Value%20eq%20%27TROPOMI%27)%20and%20(contains(Name,%27L2__{POLLUANT}_%27)%20and%20OData.CSC.Intersects(area=geography%27SRID=4326;{ZONE}%27)))%20and%20Online%20eq%20true)%20and%20ContentDate/Start%20ge%20{START_DATE}%20and%20ContentDate/Start%20lt%20{END_DATE})&$orderby=ContentDate/Start%20desc&$expand=Attributes&$count=True&$top=1000&$expand=Assets&$skip=0\"\n",
    "else :\n",
    "   products_url = f\"https://catalogue.dataspace.copernicus.eu/odata/v1/Products?&$filter=((Collection/Name%20eq%20%27SENTINEL-5P%27%20and%20(Attributes/OData.CSC.StringAttribute/any(att:att/Name%20eq%20%27instrumentShortName%27%20and%20att/OData.CSC.StringAttribute/Value%20eq%20%27TROPOMI%27)%20and%20(contains(Name,%27L2__{POLLUANT}___%27)%20and%20OData.CSC.Intersects(area=geography%27SRID=4326;{ZONE}%27)))%20and%20Online%20eq%20true)%20and%20ContentDate/Start%20ge%20{START_DATE}%20and%20ContentDate/Start%20lt%20{END_DATE})&$orderby=ContentDate/Start%20desc&$expand=Attributes&$count=True&$top=1000&$expand=Assets&$skip=0\"\n",
    "\n",
    "\n",
    "session = requests.Session()\n",
    "session.headers.update({'Authorization': 'Bearer {}'.format(keycloak_token)})\n",
    "response = requests.get(products_url, headers=session.headers)\n",
    "\n",
    "try:\n",
    "    lines = response.json()\n",
    "except json.JSONDecodeError:\n",
    "    print(\"Erreur : Impossible de décoder la réponse JSON.\")\n",
    "    exit(1)\n",
    "\n",
    "if \"value\" not in lines:\n",
    "    print(\"Erreur : La clé 'value' est absente de la réponse API.\")\n",
    "    print(\"Réponse API :\", lines)\n",
    "    exit(1)\n",
    "\n",
    "# Chemin de stockage automatiquement en fonction du polluant\n",
    "destination_root =f\"N:/MOD_SERVER/SATELLITES/tropomi_s5_annuel/alternance_moussa/output/{POLLUANT}\"\n",
    "if not os.path.exists(destination_root):\n",
    "    os.makedirs(destination_root)\n",
    "\n",
    "for value_data in lines[\"value\"]:\n",
    "    product_name = value_data[\"Name\"]\n",
    "    product_identyficator = str(value_data['Id'])\n",
    "\n",
    "    match = re.search(r\"(\\d{8}T\\d{6})\", product_name)\n",
    "    if not match:\n",
    "        print(f\"Erreur : Impossible d'extraire la date du fichier {product_name}\")\n",
    "        continue\n",
    "\n",
    "    date_str = match.group(1)\n",
    "    date_obj = datetime.strptime(date_str, \"%Y%m%dT%H%M%S\")\n",
    "    folder_name = f\"{date_obj.year}_{date_obj.month:02d}\"\n",
    "    destination_folder = os.path.join(destination_root, folder_name)\n",
    "\n",
    "    if not os.path.exists(destination_folder):\n",
    "        os.makedirs(destination_folder)\n",
    "\n",
    "    file_path = os.path.join(destination_folder, product_name)\n",
    "\n",
    "    url = f\"https://catalogue.dataspace.copernicus.eu/odata/v1/Products({product_identyficator})/$value\"\n",
    "    keycloak_token, refresh_token = refresh_keycloak(refresh_token)\n",
    "\n",
    "    download_netcdf(url, file_path)\n",
    "\n",
    "    print(f\"Téléchargement terminé : {file_path}\")\n",
    "\n"
   ]
  },
  {
   "cell_type": "code",
   "execution_count": null,
   "metadata": {},
   "outputs": [],
   "source": []
  }
 ],
 "metadata": {
  "kernelspec": {
   "display_name": "base",
   "language": "python",
   "name": "python3"
  },
  "language_info": {
   "codemirror_mode": {
    "name": "ipython",
    "version": 3
   },
   "file_extension": ".py",
   "mimetype": "text/x-python",
   "name": "python",
   "nbconvert_exporter": "python",
   "pygments_lexer": "ipython3",
   "version": "3.12.7"
  }
 },
 "nbformat": 4,
 "nbformat_minor": 2
}
